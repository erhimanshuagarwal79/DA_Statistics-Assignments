{
  "cells": [
    {
      "cell_type": "markdown",
      "id": "5b04bed9",
      "metadata": {
        "id": "5b04bed9"
      },
      "source": [
        "\n",
        "**Question:** What is a random variable in probability theory?\n",
        "\n",
        "**Answer:**\n",
        "\n",
        "A random variable is a numerical outcome of a random process or experiment. It assigns numerical values to each outcome in the sample space. Random variables can be discrete or continuous depending on the nature of the possible outcomes."
      ]
    },
    {
      "cell_type": "markdown",
      "id": "527b3db1",
      "metadata": {
        "id": "527b3db1"
      },
      "source": [
        "**Question:** What are the types of random variables?\n",
        "\n",
        "**Answer:**\n",
        "\n",
        "The two main types of random variables are:\n",
        "1. Discrete Random Variables – Can take only a finite or countably infinite number of values (e.g., number of heads in coin tosses).\n",
        "2. Continuous Random Variables – Can take any value within a given range or interval (e.g., height, weight)."
      ]
    },
    {
      "cell_type": "markdown",
      "id": "79c19f32",
      "metadata": {
        "id": "79c19f32"
      },
      "source": [
        "**Question:** Explain the difference between discrete and continuous distributions.\n",
        "\n",
        "**Answer:**\n",
        "\n",
        "Discrete distributions deal with variables that take specific, separate values (e.g., Poisson, Binomial distributions). Continuous distributions deal with variables that can take any value in an interval (e.g., Normal, Exponential distributions)."
      ]
    },
    {
      "cell_type": "markdown",
      "id": "1bd5d183",
      "metadata": {
        "id": "1bd5d183"
      },
      "source": [
        "**Question:** What is a binomial distribution, and how is it used in probability?\n",
        "\n",
        "**Answer:**\n",
        "\n",
        "The binomial distribution models the number of successes in a fixed number of independent Bernoulli trials, each with the same probability of success. It is used to solve problems involving repeated trials, such as quality control or survey sampling."
      ]
    },
    {
      "cell_type": "markdown",
      "id": "77a5d97b",
      "metadata": {
        "id": "77a5d97b"
      },
      "source": [
        "**Question:** What is the standard normal distribution, and why is it important?\n",
        "\n",
        "**Answer:**\n",
        "\n",
        "The standard normal distribution is a normal distribution with a mean of 0 and a standard deviation of 1. It is important because it allows for standardization, enabling comparisons across different datasets and simplifying probability calculations using Z-scores."
      ]
    },
    {
      "cell_type": "markdown",
      "id": "55bada4f",
      "metadata": {
        "id": "55bada4f"
      },
      "source": [
        "**Question:** What is the Central Limit Theorem (CLT), and why is it critical in statistics?\n",
        "\n",
        "**Answer:**\n",
        "\n",
        "The Central Limit Theorem states that, for a sufficiently large sample size, the sampling distribution of the sample mean approaches a normal distribution, regardless of the original population distribution. It is crucial because it justifies the use of normal probability models in inference."
      ]
    },
    {
      "cell_type": "markdown",
      "id": "ad56fd04",
      "metadata": {
        "id": "ad56fd04"
      },
      "source": [
        "**Question:** What is the significance of confidence intervals in statistical analysis?\n",
        "\n",
        "**Answer:**\n",
        "\n",
        "Confidence intervals provide a range of plausible values for an unknown population parameter. They indicate the precision and reliability of an estimate and are commonly used in hypothesis testing and decision-making."
      ]
    },
    {
      "cell_type": "markdown",
      "id": "8b470a03",
      "metadata": {
        "id": "8b470a03"
      },
      "source": [
        "**Question:** What is the concept of expected value in a probability distribution?\n",
        "\n",
        "**Answer:**\n",
        "\n",
        "The expected value is the long-run average of a random variable, calculated as the sum (or integral) of all possible values weighted by their probabilities. It represents the theoretical mean outcome of an experiment."
      ]
    },
    {
      "cell_type": "markdown",
      "id": "ac1780d7",
      "metadata": {
        "id": "ac1780d7"
      },
      "source": [
        "**Question:** Write a Python program to generate 1000 random numbers from a normal distribution with mean = 50 and standard deviation = 5. Compute its mean and standard deviation using NumPy, and draw a histogram to visualize the distribution.\n",
        "\n",
        "**Answer:**"
      ]
    },
    {
      "cell_type": "code",
      "source": [
        "import numpy as np\n",
        "import matplotlib.pyplot as plt\n",
        "\n",
        "# Generate 1000 random numbers from a normal distribution (mean=50, std=5)\n",
        "data = np.random.normal(50, 5, 1000)\n",
        "\n",
        "# Compute mean and standard deviation\n",
        "mean_val = np.mean(data)\n",
        "std_val = np.std(data)\n",
        "\n",
        "# Display results\n",
        "print(\"Mean:\", mean_val)\n",
        "print(\"Standard Deviation:\", std_val)\n",
        "\n",
        "# Plot histogram\n",
        "plt.hist(data, bins=30, color='royalblue', edgecolor='black')\n",
        "plt.title('Normal Distribution (Mean=50, SD=5)')\n",
        "plt.xlabel('Value')\n",
        "plt.ylabel('Frequency')\n",
        "plt.show()"
      ],
      "metadata": {
        "colab": {
          "base_uri": "https://localhost:8080/",
          "height": 508
        },
        "id": "ccnBO7GGRkVw",
        "outputId": "e482eaea-fc5d-4616-c9c9-0a4dfa0057f0"
      },
      "id": "ccnBO7GGRkVw",
      "execution_count": 9,
      "outputs": [
        {
          "output_type": "stream",
          "name": "stdout",
          "text": [
            "Mean: 49.93540982693737\n",
            "Standard Deviation: 5.088518343617543\n"
          ]
        },
        {
          "output_type": "display_data",
          "data": {
            "text/plain": [
              "<Figure size 640x480 with 1 Axes>"
            ],
            "image/png": "[encoded data removed]"
          },
          "metadata": {}
        }
      ]
    },
    {
      "cell_type": "markdown",
      "id": "0cae5e9a",
      "metadata": {
        "id": "0cae5e9a"
      },
      "source": [
        "**Question:** You are working as a data analyst for a retail company. The company has\n",
        "collected daily sales data for 2 years and wants you to identify the overall sales trend.\n",
        "daily_sales = [220, 245, 210, 265, 230, 250, 260, 275, 240, 255,\n",
        "235, 260, 245, 250, 225, 270, 265, 255, 250, 260]\n",
        "● Explain how you would apply the Central Limit Theorem to estimate the average sales\n",
        "with a 95% confidence interval.\n",
        "● Write the Python code to compute the mean sales and its confidence interval.\n",
        "\n",
        "\n",
        "**Answer:**\n",
        "\n",
        "The Central Limit Theorem (CLT) states that if we take sufficiently large random samples from a population, the sampling distribution of the sample mean will be approximately normal, regardless of the population’s actual distribution.\n",
        "\n",
        "For this problem:\n",
        "\n",
        "- We already have sample data for daily sales (20 values).\n",
        "\n",
        "- Using CLT, we can assume the distribution of the sample mean is approximately normal.\n",
        "\n",
        "- We calculate the sample mean and standard error of the mean.\n",
        "\n",
        "- Then, we construct a 95% confidence interval using the t-distribution (because our sample size is small and population standard deviation is unknown).\n",
        "\n"
      ]
    },
    {
      "cell_type": "code",
      "source": [
        "import numpy as np\n",
        "import scipy.stats as stats\n",
        "\n",
        "# Daily sales data\n",
        "daily_sales = [220, 245, 210, 265, 230, 250, 260, 275, 240, 255,\n",
        "               235, 260, 245, 250, 225, 270, 265, 255, 250, 260]\n",
        "\n",
        "# Calculate mean sales\n",
        "mean_sales = np.mean(daily_sales)\n",
        "\n",
        "# Calculate standard error\n",
        "std_err = stats.sem(daily_sales)  # standard deviation / sqrt(n)\n",
        "\n",
        "# Confidence level\n",
        "confidence = 0.95\n",
        "\n",
        "# t-score for 95% CI (df = n - 1)\n",
        "t_score = stats.t.ppf((1 + confidence) / 2, len(daily_sales) - 1)\n",
        "\n",
        "# Margin of error\n",
        "margin_of_error = t_score * std_err\n",
        "\n",
        "# Confidence interval\n",
        "ci_lower = mean_sales - margin_of_error\n",
        "ci_upper = mean_sales + margin_of_error\n",
        "\n",
        "# Output\n",
        "print(f\"Mean Sales: {mean_sales:.2f}\")\n",
        "print(f\"95% Confidence Interval: ({ci_lower:.2f}, {ci_upper:.2f})\")\n"
      ],
      "metadata": {
        "colab": {
          "base_uri": "https://localhost:8080/"
        },
        "id": "wD6MYMlbTdC-",
        "outputId": "414f64fc-3bf8-40ab-87af-e1b6be04517a"
      },
      "id": "wD6MYMlbTdC-",
      "execution_count": 10,
      "outputs": [
        {
          "output_type": "stream",
          "name": "stdout",
          "text": [
            "Mean Sales: 248.25\n",
            "95% Confidence Interval: (240.17, 256.33)\n"
          ]
        }
      ]
    },
    {
      "cell_type": "code",
      "source": [],
      "metadata": {
        "id": "SxLCziSxTjTy"
      },
      "id": "SxLCziSxTjTy",
      "execution_count": null,
      "outputs": []
    }
  ],
  "metadata": {
    "colab": {
      "provenance": []
    },
    "language_info": {
      "name": "python"
    },
    "kernelspec": {
      "name": "python3",
      "display_name": "Python 3"
    }
  },
  "nbformat": 4,
  "nbformat_minor": 5
}