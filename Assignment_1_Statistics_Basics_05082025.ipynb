{
  "cells": [
    {
      "cell_type": "markdown",
      "id": "5d869397",
      "metadata": {
        "id": "5d869397"
      },
      "source": [
        "## Question 1\n",
        "\n",
        "**What is the difference between descriptive statistics and inferential statistics? Explain with examples.**\n",
        "\n",
        "**Descriptive Statistics** summarize or describe the main features of a dataset. It includes measures such as mean, median, mode, standard deviation, and graphical representations like histograms or pie charts.\n",
        "\n",
        "*Example:* Describing the average age of students in a class.\n",
        "\n",
        "**Inferential Statistics** involves drawing conclusions about a population based on a sample. It includes hypothesis testing, confidence intervals, and regression analysis.\n",
        "\n",
        "*Example:* Estimating the average income of a city’s population based on a survey of 500 people.\n"
      ]
    },
    {
      "cell_type": "markdown",
      "id": "4d03efb1",
      "metadata": {
        "id": "4d03efb1"
      },
      "source": [
        "## Question 2\n",
        "\n",
        "**What is sampling in statistics? Explain the differences between random and stratified sampling.**\n",
        "\n",
        "**Sampling** is the process of selecting a subset of individuals from a population to estimate characteristics of the whole population.\n",
        "\n",
        "**Random Sampling:** Every individual has an equal chance of being selected. It reduces selection bias.\n",
        "\n",
        "**Stratified Sampling:** The population is divided into strata (groups) and samples are randomly taken from each group. It ensures representation of all subgroups.\n"
      ]
    },
    {
      "cell_type": "markdown",
      "id": "f49a8c4e",
      "metadata": {
        "id": "f49a8c4e"
      },
      "source": [
        "## Question 3\n",
        "\n",
        "**Define mean, median, and mode. Explain why these measures of central tendency are important.**\n",
        "\n",
        "**Mean:** The average of all values.\n",
        "\n",
        "**Median:** The middle value when data is sorted.\n",
        "\n",
        "**Mode:** The most frequent value.\n",
        "\n",
        "These measures help summarize a large dataset with a single value representing its center. They provide insight into data distribution and are useful for comparisons.\n"
      ]
    },
    {
      "cell_type": "markdown",
      "id": "d1fa43b4",
      "metadata": {
        "id": "d1fa43b4"
      },
      "source": [
        "## Question 4\n",
        "\n",
        "**Explain skewness and kurtosis. What does a positive skew imply about the data?**\n",
        "\n",
        "**Skewness** measures the asymmetry of data distribution. **Positive skew** means the tail on the right side is longer—more data are concentrated on the left.\n",
        "\n",
        "**Kurtosis** measures the \"tailedness\" of the distribution. High kurtosis indicates heavy tails and outliers; low kurtosis indicates light tails.\n",
        "\n",
        "A **positive skew** suggests a few large values are pulling the mean to the right.\n"
      ]
    },
    {
      "cell_type": "markdown",
      "id": "72c29334",
      "metadata": {
        "id": "72c29334"
      },
      "source": [
        "## Question 5\n",
        "\n",
        "**Implement a Python program to compute the mean, median, and mode of a given list of numbers.**"
      ]
    },
    {
      "cell_type": "code",
      "source": [
        "import statistics\n",
        "\n",
        "# Given list of numbers\n",
        "numbers = [12, 15, 12, 18, 19, 12, 20, 22, 19, 19, 24, 24, 24, 26, 28]\n",
        "\n",
        "# Calculate Mean\n",
        "mean_value = statistics.mean(numbers)\n",
        "\n",
        "# Calculate Median\n",
        "median_value = statistics.median(numbers)\n",
        "\n",
        "# Calculate Mode\n",
        "mode_value = statistics.mode(numbers)\n",
        "\n",
        "# Print the results\n",
        "print(\"Mean:\", mean_value)\n",
        "print(\"Median:\", median_value)\n",
        "print(\"Mode:\", mode_value)"
      ],
      "metadata": {
        "colab": {
          "base_uri": "https://localhost:8080/"
        },
        "id": "0XRectgZdDH2",
        "outputId": "3b2c9bb9-8f6c-4aa3-c8db-ee49f85d7c1e"
      },
      "id": "0XRectgZdDH2",
      "execution_count": 1,
      "outputs": [
        {
          "output_type": "stream",
          "name": "stdout",
          "text": [
            "Mean: 19.6\n",
            "Median: 19\n",
            "Mode: 12\n"
          ]
        }
      ]
    },
    {
      "cell_type": "markdown",
      "id": "00e98c41",
      "metadata": {
        "id": "00e98c41"
      },
      "source": [
        "## Question 6\n",
        "\n",
        "**Compute the covariance and correlation coefficient between the following\n",
        "two datasets provided as lists in Python:\n",
        "list_x = [10, 20, 30, 40, 50]\n",
        "list_y = [15, 25, 35, 45, 60]**"
      ]
    },
    {
      "cell_type": "code",
      "execution_count": 9,
      "id": "efad1b25",
      "metadata": {
        "colab": {
          "base_uri": "https://localhost:8080/"
        },
        "id": "efad1b25",
        "outputId": "d106fbc5-dc88-4d7a-9a84-d05609fe33e5"
      },
      "outputs": [
        {
          "output_type": "stream",
          "name": "stdout",
          "text": [
            "Covariance: 275.0\n",
            "Correlation Coefficient: 0.995893206467704\n"
          ]
        }
      ],
      "source": [
        "import numpy as np\n",
        "\n",
        "# Provided datasets\n",
        "list_x = [10, 20, 30, 40, 50]\n",
        "list_y = [15, 25, 35, 45, 60]\n",
        "\n",
        "# Covariance matrix\n",
        "cov_matrix = np.cov(list_x, list_y)\n",
        "covariance = cov_matrix[0][1]\n",
        "\n",
        "# Correlation coefficient matrix\n",
        "corr_matrix = np.corrcoef(list_x, list_y)\n",
        "correlation = corr_matrix[0][1]\n",
        "\n",
        "# Output\n",
        "print(\"Covariance:\", covariance)\n",
        "print(\"Correlation Coefficient:\", correlation)"
      ]
    },
    {
      "cell_type": "markdown",
      "id": "96a63865",
      "metadata": {
        "id": "96a63865"
      },
      "source": [
        "## Question 7\n",
        "\n",
        "**Write a Python script to draw a boxplot for the following numeric list and\n",
        "identify its outliers. Explain the result:\n",
        "data = [12, 14, 14, 15, 18, 19, 19, 21, 22, 22, 23, 23, 24, 26, 29, 35]**"
      ]
    },
    {
      "cell_type": "code",
      "execution_count": 8,
      "id": "3c7f72c4",
      "metadata": {
        "colab": {
          "base_uri": "https://localhost:8080/",
          "height": 472
        },
        "id": "3c7f72c4",
        "outputId": "68848676-ecaa-4b8c-fa55-3ec2fa9115ec"
      },
      "outputs": [
        {
          "output_type": "display_data",
          "data": {
            "text/plain": [
              "<Figure size 640x480 with 1 Axes>"
            ],
            "image/png": "[encoded data removed]"
          },
          "metadata": {}
        }
      ],
      "source": [
        "import matplotlib.pyplot as plt\n",
        "\n",
        "# Given data\n",
        "data = [12, 14, 14, 15, 18, 19, 19, 21, 22, 22, 23, 23, 24, 26, 29, 35]\n",
        "\n",
        "# Create boxplot\n",
        "plt.boxplot(data, vert=False, patch_artist=True,\n",
        "            boxprops=dict(facecolor='lightblue'),\n",
        "            flierprops=dict(marker='o', markerfacecolor='red', markersize=8))\n",
        "\n",
        "# Add labels and title\n",
        "plt.title(\"Boxplot of Data with Outliers\")\n",
        "plt.xlabel(\"Values\")\n",
        "plt.grid(True, axis='x', linestyle='--', alpha=0.7)\n",
        "plt.show()"
      ]
    },
    {
      "cell_type": "markdown",
      "id": "5b98cac6",
      "metadata": {
        "id": "5b98cac6"
      },
      "source": [
        "## Question 8\n",
        "**You are working as a data analyst in an e-commerce company. The\n",
        "marketing team wants to know if there is a relationship between advertising spend and\n",
        "daily sales.**\n",
        "\n",
        "**Explain how you would use covariance and correlation to explore this relationship.**\n",
        "\n",
        "Covariance shows whether two variables increase or decrease together. Correlation quantifies the strength and direction of their relationship on a scale from -1 to 1.\n",
        "\n",
        "If correlation is close to +1, there’s a strong positive linear relationship; if close to -1, it’s strongly negative.\n",
        "\n",
        "**Write Python code to compute the correlation between the two lists:\n",
        "advertising_spend = [200, 250, 300, 400, 500]\n",
        "daily_sales = [2200, 2450, 2750, 3200, 4000]**\n"
      ]
    },
    {
      "cell_type": "code",
      "execution_count": 7,
      "id": "fdeac1ba",
      "metadata": {
        "colab": {
          "base_uri": "https://localhost:8080/",
          "height": 488
        },
        "id": "fdeac1ba",
        "outputId": "aa737c04-8b08-42da-c8b6-01f7ff65c033"
      },
      "outputs": [
        {
          "output_type": "stream",
          "name": "stdout",
          "text": [
            "Covariance: 84875.0\n",
            "Correlation: 0.9935824101653329\n"
          ]
        },
        {
          "output_type": "display_data",
          "data": {
            "text/plain": [
              "<Figure size 640x480 with 1 Axes>"
            ],
            "image/png": "[encoded data removed]"
          },
          "metadata": {}
        }
      ],
      "source": [
        "import matplotlib.pyplot as plt\n",
        "import numpy as np\n",
        "\n",
        "# Data\n",
        "advertising_spend = [200, 250, 300, 400, 500]\n",
        "daily_sales = [2200, 2450, 2750, 3200, 4000]\n",
        "\n",
        "# Compute covariance matrix\n",
        "cov_matrix = np.cov(advertising_spend, daily_sales)\n",
        "covariance = cov_matrix[0][1]\n",
        "\n",
        "# Compute correlation coefficient\n",
        "correlation_matrix = np.corrcoef(advertising_spend, daily_sales)\n",
        "correlation = correlation_matrix[0][1]\n",
        "\n",
        "# Output\n",
        "print(f\"Covariance: {covariance}\")\n",
        "print(f\"Correlation: {correlation}\")\n",
        "\n",
        "data = [12, 14, 14, 15, 18, 19, 19, 21, 22, 22, 23, 23, 24, 26, 29, 35]\n",
        "plt.boxplot(data)\n",
        "plt.title('Boxplot of Data')\n",
        "plt.show()"
      ]
    },
    {
      "cell_type": "markdown",
      "id": "8cbca90b",
      "metadata": {
        "id": "8cbca90b"
      },
      "source": [
        "## Question 9\n",
        "\n",
        "**Explain which summary statistics and visualizations you’d use.**\n",
        "\n",
        "I would use the **mean**, **median**, and **standard deviation** to summarize the data. **Histogram** can help visualize distribution and skewness.\n",
        "\n",
        "**Python code to create a histogram using Matplotlib:**"
      ]
    },
    {
      "cell_type": "code",
      "execution_count": 6,
      "id": "fb0b5baa",
      "metadata": {
        "colab": {
          "base_uri": "https://localhost:8080/",
          "height": 545
        },
        "id": "fb0b5baa",
        "outputId": "58df5e2a-b666-4fc8-cfdd-686b7f786382"
      },
      "outputs": [
        {
          "output_type": "stream",
          "name": "stdout",
          "text": [
            "Mean: 7.333333333333333\n",
            "Median: 7\n",
            "Mode: 7\n",
            "Standard Deviation: 1.632993161855452\n"
          ]
        },
        {
          "output_type": "display_data",
          "data": {
            "text/plain": [
              "<Figure size 640x480 with 1 Axes>"
            ],
            "image/png": "[encoded data removed]"
          },
          "metadata": {}
        }
      ],
      "source": [
        "import matplotlib.pyplot as plt\n",
        "import statistics\n",
        "\n",
        "# Survey data\n",
        "survey_scores = [7, 8, 5, 9, 6, 7, 8, 9, 10, 4, 7, 6, 9, 8, 7]\n",
        "\n",
        "# Summary statistics\n",
        "mean = statistics.mean(survey_scores)\n",
        "median = statistics.median(survey_scores)\n",
        "mode = statistics.mode(survey_scores)\n",
        "std_dev = statistics.stdev(survey_scores)\n",
        "\n",
        "# Print statistics\n",
        "print(f\"Mean: {mean}\")\n",
        "print(f\"Median: {median}\")\n",
        "print(f\"Mode: {mode}\")\n",
        "print(f\"Standard Deviation: {std_dev}\")\n",
        "\n",
        "# Create histogram\n",
        "plt.hist(survey_scores, bins=range(4, 12), edgecolor='black', color='skyblue', align='left')\n",
        "plt.title(\"Customer Satisfaction Survey Scores\")\n",
        "plt.xlabel(\"Score\")\n",
        "plt.ylabel(\"Frequency\")\n",
        "plt.xticks(range(4, 11))\n",
        "plt.grid(axis='y', linestyle='--', alpha=0.7)\n",
        "plt.show()\n"
      ]
    },
    {
      "cell_type": "code",
      "source": [],
      "metadata": {
        "id": "OyWVZMfVdfHw"
      },
      "id": "OyWVZMfVdfHw",
      "execution_count": null,
      "outputs": []
    }
  ],
  "metadata": {
    "colab": {
      "provenance": []
    },
    "language_info": {
      "name": "python"
    },
    "kernelspec": {
      "name": "python3",
      "display_name": "Python 3"
    }
  },
  "nbformat": 4,
  "nbformat_minor": 5
}